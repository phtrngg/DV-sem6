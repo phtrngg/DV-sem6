{
 "cells": [
  {
   "cell_type": "markdown",
   "id": "97fa3d0a",
   "metadata": {},
   "source": [
    "### 1. Import các thư viện cần thiết\n"
   ]
  },
  {
   "cell_type": "code",
   "execution_count": 18,
   "id": "a5dd164e",
   "metadata": {},
   "outputs": [],
   "source": [
    "\n",
    "import pandas as pd\n",
    "import numpy as np\n",
    "import seaborn as sns\n"
   ]
  },
  {
   "cell_type": "markdown",
   "id": "43d3f752",
   "metadata": {},
   "source": [
    "### 2.  Đọc dữ liệu và lưu vào Dataframe"
   ]
  },
  {
   "cell_type": "code",
   "execution_count": 46,
   "id": "7a12a260",
   "metadata": {},
   "outputs": [],
   "source": [
    "df= pd.read_excel(\"data.xlsx\",sheet_name=\"total_df\",index_col=0)"
   ]
  },
  {
   "cell_type": "code",
   "execution_count": 53,
   "id": "7307ad44",
   "metadata": {
    "scrolled": true
   },
   "outputs": [
    {
     "data": {
      "text/html": [
       "<div>\n",
       "<style scoped>\n",
       "    .dataframe tbody tr th:only-of-type {\n",
       "        vertical-align: middle;\n",
       "    }\n",
       "\n",
       "    .dataframe tbody tr th {\n",
       "        vertical-align: top;\n",
       "    }\n",
       "\n",
       "    .dataframe thead th {\n",
       "        text-align: right;\n",
       "    }\n",
       "</style>\n",
       "<table border=\"1\" class=\"dataframe\">\n",
       "  <thead>\n",
       "    <tr style=\"text-align: right;\">\n",
       "      <th></th>\n",
       "      <th>Địa phương</th>\n",
       "      <th>Năm</th>\n",
       "      <th>Số trường học</th>\n",
       "      <th>Số lớp học</th>\n",
       "      <th>Số học sinh</th>\n",
       "      <th>Số học sinh thiểu số</th>\n",
       "      <th>Số giáo viên nữ và học sinh nữ</th>\n",
       "    </tr>\n",
       "  </thead>\n",
       "  <tbody>\n",
       "    <tr>\n",
       "      <th>1</th>\n",
       "      <td>Hà Nội</td>\n",
       "      <td>2017</td>\n",
       "      <td>727</td>\n",
       "      <td>17116</td>\n",
       "      <td>678739</td>\n",
       "      <td>7812</td>\n",
       "      <td>23228</td>\n",
       "    </tr>\n",
       "    <tr>\n",
       "      <th>3</th>\n",
       "      <td>Vĩnh Phúc</td>\n",
       "      <td>2017</td>\n",
       "      <td>176</td>\n",
       "      <td>3237</td>\n",
       "      <td>105801</td>\n",
       "      <td>5955</td>\n",
       "      <td>4046</td>\n",
       "    </tr>\n",
       "    <tr>\n",
       "      <th>4</th>\n",
       "      <td>Bắc Ninh</td>\n",
       "      <td>2017</td>\n",
       "      <td>155</td>\n",
       "      <td>3203</td>\n",
       "      <td>106948</td>\n",
       "      <td>0</td>\n",
       "      <td>4363</td>\n",
       "    </tr>\n",
       "    <tr>\n",
       "      <th>5</th>\n",
       "      <td>Quảng Ninh</td>\n",
       "      <td>2017</td>\n",
       "      <td>180</td>\n",
       "      <td>4275</td>\n",
       "      <td>116355</td>\n",
       "      <td>15094</td>\n",
       "      <td>5275</td>\n",
       "    </tr>\n",
       "    <tr>\n",
       "      <th>6</th>\n",
       "      <td>Hải Dương</td>\n",
       "      <td>2017</td>\n",
       "      <td>284</td>\n",
       "      <td>5155</td>\n",
       "      <td>154747</td>\n",
       "      <td>465</td>\n",
       "      <td>6990</td>\n",
       "    </tr>\n",
       "    <tr>\n",
       "      <th>...</th>\n",
       "      <td>...</td>\n",
       "      <td>...</td>\n",
       "      <td>...</td>\n",
       "      <td>...</td>\n",
       "      <td>...</td>\n",
       "      <td>...</td>\n",
       "      <td>...</td>\n",
       "    </tr>\n",
       "    <tr>\n",
       "      <th>252</th>\n",
       "      <td>Cần Thơ</td>\n",
       "      <td>2020</td>\n",
       "      <td>173</td>\n",
       "      <td>3114</td>\n",
       "      <td>98079</td>\n",
       "      <td>2968</td>\n",
       "      <td>2930</td>\n",
       "    </tr>\n",
       "    <tr>\n",
       "      <th>253</th>\n",
       "      <td>Hậu Giang</td>\n",
       "      <td>2020</td>\n",
       "      <td>153</td>\n",
       "      <td>2406</td>\n",
       "      <td>67192</td>\n",
       "      <td>2778</td>\n",
       "      <td>1613</td>\n",
       "    </tr>\n",
       "    <tr>\n",
       "      <th>254</th>\n",
       "      <td>Sóc Trăng</td>\n",
       "      <td>2020</td>\n",
       "      <td>209</td>\n",
       "      <td>4064</td>\n",
       "      <td>119456</td>\n",
       "      <td>49559</td>\n",
       "      <td>2603</td>\n",
       "    </tr>\n",
       "    <tr>\n",
       "      <th>255</th>\n",
       "      <td>Bạc Liêu</td>\n",
       "      <td>2020</td>\n",
       "      <td>118</td>\n",
       "      <td>2336</td>\n",
       "      <td>74721</td>\n",
       "      <td>8914</td>\n",
       "      <td>1750</td>\n",
       "    </tr>\n",
       "    <tr>\n",
       "      <th>256</th>\n",
       "      <td>Cà Mau</td>\n",
       "      <td>2020</td>\n",
       "      <td>222</td>\n",
       "      <td>3823</td>\n",
       "      <td>109690</td>\n",
       "      <td>4175</td>\n",
       "      <td>3332</td>\n",
       "    </tr>\n",
       "  </tbody>\n",
       "</table>\n",
       "<p>252 rows × 7 columns</p>\n",
       "</div>"
      ],
      "text/plain": [
       "     Địa phương   Năm  Số trường học  Số lớp học  Số học sinh  \\\n",
       "1        Hà Nội  2017            727       17116       678739   \n",
       "3     Vĩnh Phúc  2017            176        3237       105801   \n",
       "4      Bắc Ninh  2017            155        3203       106948   \n",
       "5    Quảng Ninh  2017            180        4275       116355   \n",
       "6     Hải Dương  2017            284        5155       154747   \n",
       "..          ...   ...            ...         ...          ...   \n",
       "252     Cần Thơ  2020            173        3114        98079   \n",
       "253   Hậu Giang  2020            153        2406        67192   \n",
       "254   Sóc Trăng  2020            209        4064       119456   \n",
       "255    Bạc Liêu  2020            118        2336        74721   \n",
       "256      Cà Mau  2020            222        3823       109690   \n",
       "\n",
       "     Số học sinh thiểu số  Số giáo viên nữ và học sinh nữ  \n",
       "1                    7812                           23228  \n",
       "3                    5955                            4046  \n",
       "4                       0                            4363  \n",
       "5                   15094                            5275  \n",
       "6                     465                            6990  \n",
       "..                    ...                             ...  \n",
       "252                  2968                            2930  \n",
       "253                  2778                            1613  \n",
       "254                 49559                            2603  \n",
       "255                  8914                            1750  \n",
       "256                  4175                            3332  \n",
       "\n",
       "[252 rows x 7 columns]"
      ]
     },
     "execution_count": 53,
     "metadata": {},
     "output_type": "execute_result"
    }
   ],
   "source": [
    "# df = df.iloc[1: , :]\n",
    "df=df[df[\"Địa phương\"]!=\"Hà Tây\"]\n",
    "df"
   ]
  },
  {
   "cell_type": "code",
   "execution_count": 49,
   "id": "5e54b2b2",
   "metadata": {},
   "outputs": [
    {
     "data": {
      "text/plain": [
       "1     678739\n",
       "2          0\n",
       "3     105801\n",
       "4     106948\n",
       "5     116355\n",
       "       ...  \n",
       "60     96849\n",
       "61     66683\n",
       "62    116770\n",
       "63     73166\n",
       "64    110023\n",
       "Name: Số học sinh, Length: 64, dtype: int64"
      ]
     },
     "execution_count": 49,
     "metadata": {},
     "output_type": "execute_result"
    }
   ],
   "source": [
    "df[\"Số học sinh\"].iloc[0:64]"
   ]
  },
  {
   "cell_type": "markdown",
   "id": "bd4cfc91",
   "metadata": {},
   "source": [
    "### 3. Vẽ các mô hình hồi quy thể hiện sự tương quan giữa các trường dữ liệu"
   ]
  },
  {
   "cell_type": "markdown",
   "id": "01a3ffbe",
   "metadata": {},
   "source": [
    "### 3.1 Tương quan giữa số lượng học sinh và trường học"
   ]
  },
  {
   "cell_type": "code",
   "execution_count": 55,
   "id": "f6644350",
   "metadata": {
    "scrolled": true
   },
   "outputs": [
    {
     "data": {
      "text/plain": [
       "[Text(0.5, 1.0, 'Tương quan giữa số lượng học sinh và trường học')]"
      ]
     },
     "execution_count": 55,
     "metadata": {},
     "output_type": "execute_result"
    },
    {
     "data": {
      "image/png": "[encoded data removed]",
      "text/plain": [
       "<Figure size 432x288 with 1 Axes>"
      ]
     },
     "metadata": {
      "needs_background": "light"
     },
     "output_type": "display_data"
    }
   ],
   "source": [
    "sns.regplot(x=df['Số học sinh'],y=df['Số trường học'],color= \"red\").set(title='Tương quan giữa số lượng học sinh và trường học')"
   ]
  },
  {
   "cell_type": "markdown",
   "id": "0b51e377",
   "metadata": {},
   "source": [
    "### 3.2 Tương quan giữa số lượng học sinh và số lớp học"
   ]
  },
  {
   "cell_type": "code",
   "execution_count": 59,
   "id": "76d84a29",
   "metadata": {
    "scrolled": true
   },
   "outputs": [
    {
     "data": {
      "text/plain": [
       "[Text(0.5, 1.0, 'Tương quan giữa số lượng học sinh và số lớp học')]"
      ]
     },
     "execution_count": 59,
     "metadata": {},
     "output_type": "execute_result"
    },
    {
     "data": {
      "image/png": "[encoded data removed]",
      "text/plain": [
       "<Figure size 432x288 with 1 Axes>"
      ]
     },
     "metadata": {
      "needs_background": "light"
     },
     "output_type": "display_data"
    }
   ],
   "source": [
    "sns.regplot(x=df['Số học sinh'],y=df['Số lớp học'],color= \"red\").set(title='Tương quan giữa số lượng học sinh và số lớp học')"
   ]
  },
  {
   "cell_type": "markdown",
   "id": "32aeffc9",
   "metadata": {},
   "source": [
    "### 3.3 Tương quan giữa số lượng lớp học và trường học"
   ]
  },
  {
   "cell_type": "code",
   "execution_count": 58,
   "id": "42a1361c",
   "metadata": {},
   "outputs": [
    {
     "data": {
      "text/plain": [
       "[Text(0.5, 1.0, 'Tương quan giữa số lượng lớp học và trường học')]"
      ]
     },
     "execution_count": 58,
     "metadata": {},
     "output_type": "execute_result"
    },
    {
     "data": {
      "image/png": "[encoded data removed]",
      "text/plain": [
       "<Figure size 432x288 with 1 Axes>"
      ]
     },
     "metadata": {
      "needs_background": "light"
     },
     "output_type": "display_data"
    }
   ],
   "source": [
    "sns.regplot(x=df['Số lớp học'],y=df['Số trường học'],color= \"red\").set(title='Tương quan giữa số lượng lớp học và trường học')"
   ]
  },
  {
   "cell_type": "markdown",
   "id": "db171e9f",
   "metadata": {},
   "source": [
    "## **Nhận xét:**\n",
    "\n",
    "Số lượng sinh viên, lớp học, trường học và giáo viên tương quan thuận với nhau. Điều này là hợp lý, vì khi số lượng học sinh tăng, đòi hỏi nhu cầu về lớp học và trường học cũng như giáo viên phải tăng theo\n"
   ]
  }
 ],
 "metadata": {
  "kernelspec": {
   "display_name": "Python 3 (ipykernel)",
   "language": "python",
   "name": "python3"
  },
  "language_info": {
   "codemirror_mode": {
    "name": "ipython",
    "version": 3
   },
   "file_extension": ".py",
   "mimetype": "text/x-python",
   "name": "python",
   "nbconvert_exporter": "python",
   "pygments_lexer": "ipython3",
   "version": "3.9.12"
  }
 },
 "nbformat": 4,
 "nbformat_minor": 5
}
